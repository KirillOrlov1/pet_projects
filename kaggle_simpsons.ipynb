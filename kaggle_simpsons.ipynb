{
  "nbformat": 4,
  "nbformat_minor": 5,
  "metadata": {
    "kernelspec": {
      "display_name": "Python 3",
      "language": "python",
      "name": "python3"
    },
    "language_info": {
      "codemirror_mode": {
        "name": "ipython",
        "version": 3
      },
      "file_extension": ".py",
      "mimetype": "text/x-python",
      "name": "python",
      "nbconvert_exporter": "python",
      "pygments_lexer": "ipython3",
      "version": "3.7.10"
    },
    "papermill": {
      "default_parameters": {},
      "duration": 22579.346465,
      "end_time": "2021-06-18T06:21:12.504303",
      "environment_variables": {},
      "exception": null,
      "input_path": "__notebook__.ipynb",
      "output_path": "__notebook__.ipynb",
      "parameters": {},
      "start_time": "2021-06-18T00:04:53.157838",
      "version": "2.3.3"
    },
    "colab": {
      "name": "simpsons.ipynb",
      "provenance": [],
      "collapsed_sections": []
    },
    "accelerator": "GPU"
  },
  "cells": [
    {
      "cell_type": "markdown",
      "metadata": {
        "id": "oriental-growing",
        "papermill": {
          "duration": 0.018208,
          "end_time": "2021-06-18T00:05:00.214774",
          "exception": false,
          "start_time": "2021-06-18T00:05:00.196566",
          "status": "completed"
        },
        "tags": []
      },
      "source": [
        "# Load data and define pipeline"
      ],
      "id": "oriental-growing"
    },
    {
      "cell_type": "code",
      "metadata": {
        "execution": {
          "iopub.execute_input": "2021-06-18T00:05:00.251886Z",
          "iopub.status.busy": "2021-06-18T00:05:00.250379Z",
          "iopub.status.idle": "2021-06-18T00:05:02.692896Z",
          "shell.execute_reply": "2021-06-18T00:05:02.694038Z",
          "shell.execute_reply.started": "2021-06-17T16:13:53.149674Z"
        },
        "id": "round-knitting",
        "papermill": {
          "duration": 2.463557,
          "end_time": "2021-06-18T00:05:02.694369",
          "exception": false,
          "start_time": "2021-06-18T00:05:00.230812",
          "status": "completed"
        },
        "tags": []
      },
      "source": [
        "import pickle\n",
        "import numpy as np\n",
        "from skimage import io\n",
        "import pandas as pd\n",
        "\n",
        "from tqdm import tqdm, tqdm_notebook\n",
        "from PIL import Image\n",
        "from pathlib import Path\n",
        "\n",
        "import torch\n",
        "from torch import tensor\n",
        "import torchvision\n",
        "from torchvision import transforms\n",
        "from multiprocessing.pool import ThreadPool\n",
        "from sklearn.preprocessing import LabelEncoder\n",
        "from torch.utils.data import Dataset, DataLoader\n",
        "import torch.nn as nn\n",
        "\n",
        "from matplotlib import colors, pyplot as plt\n",
        "%matplotlib inline\n",
        "\n",
        "import warnings\n",
        "warnings.filterwarnings(action='ignore', category=DeprecationWarning)"
      ],
      "id": "round-knitting",
      "execution_count": 87,
      "outputs": []
    },
    {
      "cell_type": "code",
      "metadata": {
        "execution": {
          "iopub.execute_input": "2021-06-18T00:05:02.759689Z",
          "iopub.status.busy": "2021-06-18T00:05:02.758667Z",
          "iopub.status.idle": "2021-06-18T00:05:02.761154Z",
          "shell.execute_reply": "2021-06-18T00:05:02.760375Z",
          "shell.execute_reply.started": "2021-06-17T16:32:12.760432Z"
        },
        "id": "patient-union",
        "papermill": {
          "duration": 0.038419,
          "end_time": "2021-06-18T00:05:02.761320",
          "exception": false,
          "start_time": "2021-06-18T00:05:02.722901",
          "status": "completed"
        },
        "tags": []
      },
      "source": [
        "DATA_MODES = ['train', 'val', 'test']\n",
        "RESCALE_SIZE = 299\n",
        "DEVICE = torch.device(\"cuda\")"
      ],
      "id": "patient-union",
      "execution_count": 19,
      "outputs": []
    },
    {
      "cell_type": "code",
      "metadata": {
        "execution": {
          "iopub.execute_input": "2021-06-18T00:05:02.826259Z",
          "iopub.status.busy": "2021-06-18T00:05:02.825520Z",
          "iopub.status.idle": "2021-06-18T00:05:02.834871Z",
          "shell.execute_reply": "2021-06-18T00:05:02.835799Z",
          "shell.execute_reply.started": "2021-06-17T16:32:12.903027Z"
        },
        "id": "spectacular-shape",
        "papermill": {
          "duration": 0.047653,
          "end_time": "2021-06-18T00:05:02.835984",
          "exception": false,
          "start_time": "2021-06-18T00:05:02.788331",
          "status": "completed"
        },
        "tags": []
      },
      "source": [
        "class SimpsonsDataset(Dataset):\n",
        "\n",
        "    def __init__(self, files, mode):\n",
        "        super().__init__()\n",
        "        self.files = sorted(files)\n",
        "        self.mode = mode\n",
        "\n",
        "        if self.mode not in DATA_MODES:\n",
        "            print(f\"{self.mode} is not correct; correct modes: {DATA_MODES}\")\n",
        "            raise NameError\n",
        "\n",
        "        self.len_ = len(self.files)\n",
        "     \n",
        "        self.label_encoder = LabelEncoder()\n",
        "\n",
        "        if self.mode != 'test':\n",
        "            self.labels = [path.parent.name for path in self.files]\n",
        "            self.label_encoder.fit(self.labels)\n",
        "\n",
        "            with open('label_encoder.pkl', 'wb') as le_dump_file:\n",
        "                  pickle.dump(self.label_encoder, le_dump_file)\n",
        "                      \n",
        "    def __len__(self):\n",
        "        return self.len_\n",
        "      \n",
        "    def load_sample(self, file):\n",
        "        image = Image.open(file)\n",
        "        image.load()\n",
        "        return image\n",
        "  \n",
        "    def __getitem__(self, index):\n",
        "        transform = transforms.Compose([\n",
        "            transforms.ToTensor(),\n",
        "            transforms.ColorJitter(brightness=0.5),\n",
        "            transforms.RandomHorizontalFlip(p=0.5),\n",
        "            transforms.RandomVerticalFlip(p=0.3),\n",
        "            transforms.Normalize([0.485, 0.456, 0.406], [0.229, 0.224, 0.225]) \n",
        "        ])\n",
        "        x = self.load_sample(self.files[index])\n",
        "        x = self._prepare_sample(x)\n",
        "        x = np.array(x / 255, dtype='float32')\n",
        "        x = transform(x)\n",
        "        if self.mode == 'test':\n",
        "            return x\n",
        "        else:\n",
        "            label = self.labels[index]\n",
        "            label_id = self.label_encoder.transform([label])\n",
        "            y = label_id.item()\n",
        "            return x, y\n",
        "        \n",
        "    def _prepare_sample(self, image):\n",
        "        image = image.resize((RESCALE_SIZE, RESCALE_SIZE))\n",
        "        return np.array(image)"
      ],
      "id": "spectacular-shape",
      "execution_count": 20,
      "outputs": []
    },
    {
      "cell_type": "code",
      "metadata": {
        "colab": {
          "base_uri": "https://localhost:8080/"
        },
        "id": "LgG6YdK-zDX_",
        "outputId": "0b78931c-654a-4df1-e142-47802d586917"
      },
      "source": [
        "from google.colab import drive\n",
        "drive.mount('/content/drive')"
      ],
      "id": "LgG6YdK-zDX_",
      "execution_count": 22,
      "outputs": [
        {
          "output_type": "stream",
          "text": [
            "Drive already mounted at /content/drive; to attempt to forcibly remount, call drive.mount(\"/content/drive\", force_remount=True).\n"
          ],
          "name": "stdout"
        }
      ]
    },
    {
      "cell_type": "code",
      "metadata": {
        "id": "EAL2EH-wzUme"
      },
      "source": [
        "! unzip drive/MyDrive/datasets/journey-springfield.zip"
      ],
      "id": "EAL2EH-wzUme",
      "execution_count": 23,
      "outputs": []
    },
    {
      "cell_type": "code",
      "metadata": {
        "execution": {
          "iopub.execute_input": "2021-06-18T00:05:02.894290Z",
          "iopub.status.busy": "2021-06-18T00:05:02.893680Z",
          "iopub.status.idle": "2021-06-18T00:05:18.448133Z",
          "shell.execute_reply": "2021-06-18T00:05:18.447670Z",
          "shell.execute_reply.started": "2021-06-17T16:32:13.229372Z"
        },
        "id": "addressed-clone",
        "papermill": {
          "duration": 15.585286,
          "end_time": "2021-06-18T00:05:18.448262",
          "exception": false,
          "start_time": "2021-06-18T00:05:02.862976",
          "status": "completed"
        },
        "tags": []
      },
      "source": [
        "TRAIN_DIR = Path('train/simpsons_dataset')\n",
        "TEST_DIR = Path('testset/testset')\n",
        "\n",
        "train_val_files = sorted(list(TRAIN_DIR.rglob('*.jpg')))\n",
        "test_files = sorted(list(TEST_DIR.rglob('*.jpg')))"
      ],
      "id": "addressed-clone",
      "execution_count": 24,
      "outputs": []
    },
    {
      "cell_type": "code",
      "metadata": {
        "execution": {
          "iopub.execute_input": "2021-06-18T00:05:18.484621Z",
          "iopub.status.busy": "2021-06-18T00:05:18.483882Z",
          "iopub.status.idle": "2021-06-18T00:05:18.608340Z",
          "shell.execute_reply": "2021-06-18T00:05:18.607823Z",
          "shell.execute_reply.started": "2021-06-17T16:32:39.599198Z"
        },
        "id": "massive-logic",
        "papermill": {
          "duration": 0.144193,
          "end_time": "2021-06-18T00:05:18.608490",
          "exception": false,
          "start_time": "2021-06-18T00:05:18.464297",
          "status": "completed"
        },
        "tags": []
      },
      "source": [
        "from sklearn.model_selection import train_test_split\n",
        "\n",
        "train_val_labels = [path.parent.name for path in train_val_files]\n",
        "train_files, val_files = train_test_split(train_val_files, test_size=0.25, \\\n",
        "                                          stratify=train_val_labels)"
      ],
      "id": "massive-logic",
      "execution_count": 25,
      "outputs": []
    },
    {
      "cell_type": "code",
      "metadata": {
        "execution": {
          "iopub.execute_input": "2021-06-18T00:05:18.647516Z",
          "iopub.status.busy": "2021-06-18T00:05:18.646792Z",
          "iopub.status.idle": "2021-06-18T00:05:18.649549Z",
          "shell.execute_reply": "2021-06-18T00:05:18.649141Z",
          "shell.execute_reply.started": "2021-06-17T16:32:39.913673Z"
        },
        "id": "improving-metropolitan",
        "papermill": {
          "duration": 0.025423,
          "end_time": "2021-06-18T00:05:18.649656",
          "exception": false,
          "start_time": "2021-06-18T00:05:18.624233",
          "status": "completed"
        },
        "tags": []
      },
      "source": [
        "def fit_epoch(model, train_loader, criterion, optimizer):\n",
        "    model.train()\n",
        "    running_loss = 0.0\n",
        "    running_corrects = 0\n",
        "    processed_data = 0\n",
        "  \n",
        "    for inputs, labels in train_loader:\n",
        "        inputs = inputs.to(DEVICE)\n",
        "        labels = labels.to(DEVICE)\n",
        "        optimizer.zero_grad()\n",
        "\n",
        "        outputs = model(inputs)\n",
        "        loss = criterion(outputs, labels)\n",
        "        loss.backward()\n",
        "        optimizer.step()\n",
        "        preds = torch.argmax(outputs, 1)\n",
        "        running_loss += loss.item() * inputs.size(0)\n",
        "        running_corrects += torch.sum(preds == labels.data)\n",
        "        processed_data += inputs.size(0)\n",
        "              \n",
        "    train_loss = running_loss / processed_data\n",
        "    train_acc = running_corrects.cpu().numpy() / processed_data\n",
        "    return train_loss, train_acc"
      ],
      "id": "improving-metropolitan",
      "execution_count": 26,
      "outputs": []
    },
    {
      "cell_type": "code",
      "metadata": {
        "execution": {
          "iopub.execute_input": "2021-06-18T00:05:18.686551Z",
          "iopub.status.busy": "2021-06-18T00:05:18.685880Z",
          "iopub.status.idle": "2021-06-18T00:05:18.688185Z",
          "shell.execute_reply": "2021-06-18T00:05:18.688615Z",
          "shell.execute_reply.started": "2021-06-17T16:32:40.761672Z"
        },
        "id": "creative-enclosure",
        "papermill": {
          "duration": 0.023667,
          "end_time": "2021-06-18T00:05:18.688733",
          "exception": false,
          "start_time": "2021-06-18T00:05:18.665066",
          "status": "completed"
        },
        "tags": []
      },
      "source": [
        "def eval_epoch(model, val_loader, criterion):\n",
        "    model.eval()\n",
        "    running_loss = 0.0\n",
        "    running_corrects = 0\n",
        "    processed_size = 0\n",
        "\n",
        "    for inputs, labels in val_loader:\n",
        "        inputs = inputs.to(DEVICE)\n",
        "        labels = labels.to(DEVICE)\n",
        "\n",
        "        with torch.set_grad_enabled(False):\n",
        "            outputs = model(inputs)\n",
        "            loss = criterion(outputs, labels)\n",
        "            preds = torch.argmax(outputs, 1)\n",
        "\n",
        "        running_loss += loss.item() * inputs.size(0)\n",
        "        running_corrects += torch.sum(preds == labels.data)\n",
        "        processed_size += inputs.size(0)\n",
        "    val_loss = running_loss / processed_size\n",
        "    val_acc = running_corrects.double() / processed_size\n",
        "    return val_loss, val_acc"
      ],
      "id": "creative-enclosure",
      "execution_count": 27,
      "outputs": []
    },
    {
      "cell_type": "code",
      "metadata": {
        "execution": {
          "iopub.execute_input": "2021-06-18T00:05:18.726450Z",
          "iopub.status.busy": "2021-06-18T00:05:18.725763Z",
          "iopub.status.idle": "2021-06-18T00:05:18.728102Z",
          "shell.execute_reply": "2021-06-18T00:05:18.728477Z",
          "shell.execute_reply.started": "2021-06-17T16:32:41.292911Z"
        },
        "id": "operational-elevation",
        "papermill": {
          "duration": 0.024518,
          "end_time": "2021-06-18T00:05:18.728597",
          "exception": false,
          "start_time": "2021-06-18T00:05:18.704079",
          "status": "completed"
        },
        "tags": []
      },
      "source": [
        "def train(train_dataset, val_dataset, model, epochs, batch_size):\n",
        "    train_loader = DataLoader(train_dataset, batch_size=batch_size, shuffle=True)\n",
        "    val_loader = DataLoader(val_dataset, batch_size=batch_size, shuffle=False)\n",
        "\n",
        "    history = []\n",
        "    log_template = \"\\nEpoch {ep:03d} train_loss: {t_loss:0.4f} \\\n",
        "    val_loss {v_loss:0.4f} train_acc {t_acc:0.4f} val_acc {v_acc:0.4f}\"\n",
        "\n",
        "    with tqdm(desc=\"epoch\", total=epochs) as pbar_outer:\n",
        "        opt = torch.optim.Adam(model.parameters())\n",
        "        criterion = nn.CrossEntropyLoss()\n",
        "\n",
        "        for epoch in range(epochs):\n",
        "            train_loss, train_acc = fit_epoch(model, train_loader, criterion, opt)\n",
        "            print(\"loss\", train_loss)\n",
        "            \n",
        "            val_loss, val_acc = eval_epoch(model, val_loader, criterion)\n",
        "            history.append((train_loss, train_acc, val_loss, val_acc))\n",
        "            \n",
        "            pbar_outer.update(1)\n",
        "            tqdm.write(log_template.format(ep=epoch+1, t_loss=train_loss,\\\n",
        "                                           v_loss=val_loss, t_acc=train_acc, v_acc=val_acc))\n",
        "            \n",
        "    return history"
      ],
      "id": "operational-elevation",
      "execution_count": 28,
      "outputs": []
    },
    {
      "cell_type": "code",
      "metadata": {
        "execution": {
          "iopub.execute_input": "2021-06-18T00:05:18.764513Z",
          "iopub.status.busy": "2021-06-18T00:05:18.763774Z",
          "iopub.status.idle": "2021-06-18T00:05:18.766363Z",
          "shell.execute_reply": "2021-06-18T00:05:18.765948Z",
          "shell.execute_reply.started": "2021-06-17T16:32:41.612624Z"
        },
        "id": "frequent-forestry",
        "papermill": {
          "duration": 0.022404,
          "end_time": "2021-06-18T00:05:18.766480",
          "exception": false,
          "start_time": "2021-06-18T00:05:18.744076",
          "status": "completed"
        },
        "tags": []
      },
      "source": [
        "def predict(model, test_loader):\n",
        "    with torch.no_grad():\n",
        "        logits = []\n",
        "    \n",
        "        for inputs in test_loader:\n",
        "            inputs = inputs.to(DEVICE)\n",
        "            model.eval()\n",
        "            outputs = model(inputs).cpu()\n",
        "            logits.append(outputs)\n",
        "            \n",
        "    probs = nn.functional.softmax(torch.cat(logits), dim=-1).numpy()\n",
        "    return probs"
      ],
      "id": "frequent-forestry",
      "execution_count": 29,
      "outputs": []
    },
    {
      "cell_type": "markdown",
      "metadata": {
        "id": "administrative-bridal",
        "papermill": {
          "duration": 0.015508,
          "end_time": "2021-06-18T00:05:18.797382",
          "exception": false,
          "start_time": "2021-06-18T00:05:18.781874",
          "status": "completed"
        },
        "tags": []
      },
      "source": [
        "# Make Oversmpling"
      ],
      "id": "administrative-bridal"
    },
    {
      "cell_type": "code",
      "metadata": {
        "execution": {
          "iopub.execute_input": "2021-06-18T00:05:18.856073Z",
          "iopub.status.busy": "2021-06-18T00:05:18.840673Z",
          "iopub.status.idle": "2021-06-18T00:05:18.904476Z",
          "shell.execute_reply": "2021-06-18T00:05:18.904855Z",
          "shell.execute_reply.started": "2021-06-17T16:32:42.764115Z"
        },
        "id": "naughty-stuart",
        "papermill": {
          "duration": 0.092052,
          "end_time": "2021-06-18T00:05:18.904979",
          "exception": false,
          "start_time": "2021-06-18T00:05:18.812927",
          "status": "completed"
        },
        "tags": [],
        "colab": {
          "base_uri": "https://localhost:8080/"
        },
        "outputId": "a5b2c6a4-a599-4f62-d331-3b46d519c4a2"
      },
      "source": [
        "data = dict()\n",
        "\n",
        "for item in train_files:\n",
        "    if item.parent.name not in data.keys():\n",
        "        data[item.parent.name] = [item]\n",
        "        continue\n",
        "    data[item.parent.name].append(item)\n",
        "\n",
        "for key in data.keys():\n",
        "    print(str(key) + ': ' + str(len(data[key])))"
      ],
      "id": "naughty-stuart",
      "execution_count": 30,
      "outputs": [
        {
          "output_type": "stream",
          "text": [
            "kent_brockman: 373\n",
            "homer_simpson: 1684\n",
            "abraham_grampa_simpson: 685\n",
            "ned_flanders: 1090\n",
            "apu_nahasapeemapetilon: 467\n",
            "principal_skinner: 895\n",
            "marge_simpson: 968\n",
            "lisa_simpson: 1015\n",
            "chief_wiggum: 739\n",
            "milhouse_van_houten: 809\n",
            "cletus_spuckler: 35\n",
            "bart_simpson: 1006\n",
            "krusty_the_clown: 904\n",
            "moe_szyslak: 1089\n",
            "charles_montgomery_burns: 895\n",
            "barney_gumble: 80\n",
            "comic_book_guy: 352\n",
            "edna_krabappel: 343\n",
            "sideshow_bob: 658\n",
            "nelson_muntz: 269\n",
            "mayor_quimby: 185\n",
            "lenny_leonard: 233\n",
            "groundskeeper_willie: 91\n",
            "selma_bouvier: 77\n",
            "maggie_simpson: 96\n",
            "waylon_smithers: 136\n",
            "ralph_wiggum: 67\n",
            "carl_carlson: 74\n",
            "agnes_skinner: 32\n",
            "martin_prince: 53\n",
            "professor_john_frink: 49\n",
            "miss_hoover: 13\n",
            "snake_jailbird: 41\n",
            "otto_mann: 24\n",
            "patty_bouvier: 54\n",
            "fat_tony: 20\n",
            "rainier_wolfcastle: 34\n",
            "gil: 20\n",
            "sideshow_mel: 30\n",
            "disco_stu: 6\n",
            "troy_mcclure: 6\n",
            "lionel_hutz: 2\n"
          ],
          "name": "stdout"
        }
      ]
    },
    {
      "cell_type": "code",
      "metadata": {
        "execution": {
          "iopub.execute_input": "2021-06-18T00:05:18.941470Z",
          "iopub.status.busy": "2021-06-18T00:05:18.940649Z",
          "iopub.status.idle": "2021-06-18T00:05:18.943039Z",
          "shell.execute_reply": "2021-06-18T00:05:18.942547Z",
          "shell.execute_reply.started": "2021-06-17T16:32:43.786901Z"
        },
        "id": "collectible-symphony",
        "papermill": {
          "duration": 0.021949,
          "end_time": "2021-06-18T00:05:18.943138",
          "exception": false,
          "start_time": "2021-06-18T00:05:18.921189",
          "status": "completed"
        },
        "tags": []
      },
      "source": [
        "for key in data.keys():\n",
        "    if len(data[key]) < 100:\n",
        "        data[key] *= 100 // len(data[key]) + 1"
      ],
      "id": "collectible-symphony",
      "execution_count": 31,
      "outputs": []
    },
    {
      "cell_type": "code",
      "metadata": {
        "execution": {
          "iopub.execute_input": "2021-06-18T00:05:18.980695Z",
          "iopub.status.busy": "2021-06-18T00:05:18.979905Z",
          "iopub.status.idle": "2021-06-18T00:05:18.986296Z",
          "shell.execute_reply": "2021-06-18T00:05:18.986798Z",
          "shell.execute_reply.started": "2021-06-17T16:32:44.382528Z"
        },
        "id": "sitting-rainbow",
        "papermill": {
          "duration": 0.028011,
          "end_time": "2021-06-18T00:05:18.986933",
          "exception": false,
          "start_time": "2021-06-18T00:05:18.958922",
          "status": "completed"
        },
        "tags": [],
        "colab": {
          "base_uri": "https://localhost:8080/"
        },
        "outputId": "48a5fb6c-a09f-4928-c77f-891dd88a6461"
      },
      "source": [
        "for key in data.keys():\n",
        "    print(str(key) + ': ' + str(len(data[key])))"
      ],
      "id": "sitting-rainbow",
      "execution_count": 32,
      "outputs": [
        {
          "output_type": "stream",
          "text": [
            "kent_brockman: 373\n",
            "homer_simpson: 1684\n",
            "abraham_grampa_simpson: 685\n",
            "ned_flanders: 1090\n",
            "apu_nahasapeemapetilon: 467\n",
            "principal_skinner: 895\n",
            "marge_simpson: 968\n",
            "lisa_simpson: 1015\n",
            "chief_wiggum: 739\n",
            "milhouse_van_houten: 809\n",
            "cletus_spuckler: 105\n",
            "bart_simpson: 1006\n",
            "krusty_the_clown: 904\n",
            "moe_szyslak: 1089\n",
            "charles_montgomery_burns: 895\n",
            "barney_gumble: 160\n",
            "comic_book_guy: 352\n",
            "edna_krabappel: 343\n",
            "sideshow_bob: 658\n",
            "nelson_muntz: 269\n",
            "mayor_quimby: 185\n",
            "lenny_leonard: 233\n",
            "groundskeeper_willie: 182\n",
            "selma_bouvier: 154\n",
            "maggie_simpson: 192\n",
            "waylon_smithers: 136\n",
            "ralph_wiggum: 134\n",
            "carl_carlson: 148\n",
            "agnes_skinner: 128\n",
            "martin_prince: 106\n",
            "professor_john_frink: 147\n",
            "miss_hoover: 104\n",
            "snake_jailbird: 123\n",
            "otto_mann: 120\n",
            "patty_bouvier: 108\n",
            "fat_tony: 120\n",
            "rainier_wolfcastle: 102\n",
            "gil: 120\n",
            "sideshow_mel: 120\n",
            "disco_stu: 102\n",
            "troy_mcclure: 102\n",
            "lionel_hutz: 102\n"
          ],
          "name": "stdout"
        }
      ]
    },
    {
      "cell_type": "code",
      "metadata": {
        "execution": {
          "iopub.execute_input": "2021-06-18T00:05:19.023798Z",
          "iopub.status.busy": "2021-06-18T00:05:19.022988Z",
          "iopub.status.idle": "2021-06-18T00:05:19.025399Z",
          "shell.execute_reply": "2021-06-18T00:05:19.024899Z",
          "shell.execute_reply.started": "2021-06-17T16:32:45.022196Z"
        },
        "id": "distinct-compound",
        "papermill": {
          "duration": 0.022295,
          "end_time": "2021-06-18T00:05:19.025517",
          "exception": false,
          "start_time": "2021-06-18T00:05:19.003222",
          "status": "completed"
        },
        "tags": []
      },
      "source": [
        "train_files = []\n",
        "for key in data.keys():\n",
        "    train_files.extend(data[key])"
      ],
      "id": "distinct-compound",
      "execution_count": 33,
      "outputs": []
    },
    {
      "cell_type": "code",
      "metadata": {
        "execution": {
          "iopub.execute_input": "2021-06-18T00:05:19.106381Z",
          "iopub.status.busy": "2021-06-18T00:05:19.096078Z",
          "iopub.status.idle": "2021-06-18T00:05:19.239846Z",
          "shell.execute_reply": "2021-06-18T00:05:19.239321Z",
          "shell.execute_reply.started": "2021-06-17T16:32:45.631156Z"
        },
        "id": "liquid-winning",
        "papermill": {
          "duration": 0.198312,
          "end_time": "2021-06-18T00:05:19.239983",
          "exception": false,
          "start_time": "2021-06-18T00:05:19.041671",
          "status": "completed"
        },
        "tags": []
      },
      "source": [
        "val_dataset = SimpsonsDataset(val_files, mode='val')\n",
        "train_dataset = SimpsonsDataset(train_files, mode='train')\n",
        "test_dataset = SimpsonsDataset(test_files, mode='test')"
      ],
      "id": "liquid-winning",
      "execution_count": 76,
      "outputs": []
    },
    {
      "cell_type": "markdown",
      "metadata": {
        "id": "framed-thirty",
        "papermill": {
          "duration": 0.016003,
          "end_time": "2021-06-18T00:05:19.272392",
          "exception": false,
          "start_time": "2021-06-18T00:05:19.256389",
          "status": "completed"
        },
        "tags": []
      },
      "source": [
        "# Taining model"
      ],
      "id": "framed-thirty"
    },
    {
      "cell_type": "code",
      "metadata": {
        "execution": {
          "iopub.execute_input": "2021-06-18T00:05:19.308991Z",
          "iopub.status.busy": "2021-06-18T00:05:19.308372Z",
          "iopub.status.idle": "2021-06-18T00:05:28.171059Z",
          "shell.execute_reply": "2021-06-18T00:05:28.170574Z",
          "shell.execute_reply.started": "2021-06-17T16:32:49.243246Z"
        },
        "id": "skilled-position",
        "papermill": {
          "duration": 8.882658,
          "end_time": "2021-06-18T00:05:28.171193",
          "exception": false,
          "start_time": "2021-06-18T00:05:19.288535",
          "status": "completed"
        },
        "tags": []
      },
      "source": [
        "model = torchvision.models.inception_v3(pretrained=True, aux_logits=False)"
      ],
      "id": "skilled-position",
      "execution_count": 35,
      "outputs": []
    },
    {
      "cell_type": "code",
      "metadata": {
        "execution": {
          "iopub.execute_input": "2021-06-18T00:05:28.211749Z",
          "iopub.status.busy": "2021-06-18T00:05:28.210530Z",
          "iopub.status.idle": "2021-06-18T00:05:28.214971Z",
          "shell.execute_reply": "2021-06-18T00:05:28.214427Z",
          "shell.execute_reply.started": "2021-06-17T16:32:51.102343Z"
        },
        "id": "horizontal-scientist",
        "papermill": {
          "duration": 0.025823,
          "end_time": "2021-06-18T00:05:28.215092",
          "exception": false,
          "start_time": "2021-06-18T00:05:28.189269",
          "status": "completed"
        },
        "tags": []
      },
      "source": [
        "model.fc = nn.Linear(2048, 42)"
      ],
      "id": "horizontal-scientist",
      "execution_count": 36,
      "outputs": []
    },
    {
      "cell_type": "code",
      "metadata": {
        "collapsed": true,
        "execution": {
          "iopub.execute_input": "2021-06-18T00:05:28.294912Z",
          "iopub.status.busy": "2021-06-18T00:05:28.294255Z",
          "iopub.status.idle": "2021-06-18T00:05:32.535819Z",
          "shell.execute_reply": "2021-06-18T00:05:32.536236Z",
          "shell.execute_reply.started": "2021-06-17T16:35:12.314145Z"
        },
        "jupyter": {
          "outputs_hidden": true
        },
        "papermill": {
          "duration": 4.304389,
          "end_time": "2021-06-18T00:05:32.536399",
          "exception": false,
          "start_time": "2021-06-18T00:05:28.232010",
          "status": "completed"
        },
        "tags": [],
        "id": "veterinary-plaza"
      },
      "source": [
        "model.to(DEVICE)"
      ],
      "id": "veterinary-plaza",
      "execution_count": null,
      "outputs": []
    },
    {
      "cell_type": "code",
      "metadata": {
        "execution": {
          "iopub.execute_input": "2021-06-18T00:05:32.578974Z",
          "iopub.status.busy": "2021-06-18T00:05:32.578174Z",
          "iopub.status.idle": "2021-06-18T06:21:10.363503Z",
          "shell.execute_reply": "2021-06-18T06:21:10.363012Z",
          "shell.execute_reply.started": "2021-06-17T16:35:16.909626Z"
        },
        "id": "daily-means",
        "papermill": {
          "duration": 22537.808495,
          "end_time": "2021-06-18T06:21:10.363649",
          "exception": false,
          "start_time": "2021-06-18T00:05:32.555154",
          "status": "completed"
        },
        "tags": []
      },
      "source": [
        "for i in range(5):\n",
        "    train(train_dataset, val_dataset, model, 10, 64)\n",
        "    path = f'/content/drive/MyDrive/Colab Notebooks/weigths_sympsons{i+1}0.pt'\n",
        "    torch.save(model.state_dict(), path)"
      ],
      "id": "daily-means",
      "execution_count": null,
      "outputs": []
    },
    {
      "cell_type": "markdown",
      "metadata": {
        "id": "Z1pveqDGMvdv"
      },
      "source": [
        "# Make submission"
      ],
      "id": "Z1pveqDGMvdv"
    },
    {
      "cell_type": "code",
      "metadata": {
        "id": "sxt6J5_4L-9t"
      },
      "source": [
        "model.load_state_dict(torch.load('/content/weigths_sympsons50.pth'))"
      ],
      "id": "sxt6J5_4L-9t",
      "execution_count": null,
      "outputs": []
    },
    {
      "cell_type": "code",
      "metadata": {
        "id": "NKrpb9EiM1ES"
      },
      "source": [
        "load_test = DataLoader(test_dataset)\n",
        "probs = predict(model, load_test)\n",
        "probs = np.argmax(probs, axis=1)"
      ],
      "id": "NKrpb9EiM1ES",
      "execution_count": 62,
      "outputs": []
    },
    {
      "cell_type": "code",
      "metadata": {
        "id": "0MUvUnu2UcxJ"
      },
      "source": [
        "with open('/content/label_encoder.pkl', 'rb') as f:\n",
        "    enc = pickle.load(f)"
      ],
      "id": "0MUvUnu2UcxJ",
      "execution_count": 77,
      "outputs": []
    },
    {
      "cell_type": "code",
      "metadata": {
        "id": "9E6THRFjePuo"
      },
      "source": [
        "probs = probs.tolist()\n",
        "subs = enc.inverse_transform(probs)"
      ],
      "id": "9E6THRFjePuo",
      "execution_count": null,
      "outputs": []
    },
    {
      "cell_type": "code",
      "metadata": {
        "id": "vG65TU7qeUEX"
      },
      "source": [
        "names = [path.name for path in test_files]\n",
        "names = pd.Series(names, name='Id')\n",
        "subs = pd.Series(subs, name='Expected')\n",
        "submission = pd.DataFrame({'Id': names, 'Expected': subs})"
      ],
      "id": "vG65TU7qeUEX",
      "execution_count": null,
      "outputs": []
    },
    {
      "cell_type": "code",
      "metadata": {
        "id": "VUwmTdzVZhxJ"
      },
      "source": [
        "submission.to_csv('sub.csv', index=False)"
      ],
      "id": "VUwmTdzVZhxJ",
      "execution_count": 96,
      "outputs": []
    }
  ]
}

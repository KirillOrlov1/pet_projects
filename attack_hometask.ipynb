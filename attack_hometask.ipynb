{
  "nbformat": 4,
  "nbformat_minor": 0,
  "metadata": {
    "colab": {
      "provenance": []
    },
    "kernelspec": {
      "name": "python3",
      "display_name": "Python 3"
    },
    "language_info": {
      "name": "python"
    },
    "gpuClass": "standard",
    "accelerator": "GPU"
  },
  "cells": [
    {
      "cell_type": "markdown",
      "source": [
        "# Imports"
      ],
      "metadata": {
        "id": "6BM3Zek13SY2"
      }
    },
    {
      "cell_type": "code",
      "source": [
        "import random\n",
        "import pandas as pd\n",
        "import numpy as np\n",
        "from PIL import Image\n",
        "import pathlib\n",
        "\n",
        "import torch, torchvision\n",
        "from torchvision.io import read_image\n",
        "from torchvision.models import resnet34\n",
        "from torch.utils.data import Dataset, DataLoader\n",
        "from torch.optim.lr_scheduler import ExponentialLR\n",
        "\n",
        "from sklearn.metrics import accuracy_score\n",
        "import matplotlib.pyplot as plt\n",
        "\n",
        "random.seed(2023)\n",
        "import warnings\n",
        "warnings.filterwarnings('ignore')"
      ],
      "metadata": {
        "id": "mc_yxTO43U2v"
      },
      "execution_count": 335,
      "outputs": []
    },
    {
      "cell_type": "markdown",
      "source": [
        "# Download"
      ],
      "metadata": {
        "id": "mAB7KL9E3OI4"
      }
    },
    {
      "cell_type": "code",
      "execution_count": 323,
      "metadata": {
        "colab": {
          "base_uri": "https://localhost:8080/"
        },
        "id": "JpRxnp1B2m8u",
        "outputId": "e3315bf2-50d3-45c2-a2e3-8ab219aa78d9"
      },
      "outputs": [
        {
          "output_type": "stream",
          "name": "stderr",
          "text": [
            "Downloading...\n",
            "From: https://drive.google.com/uc?id=1ONrKzVseOn8ZjBSK28VCh0bDYDrbun4k&confirm=y\n",
            "To: /content/archive.zip\n",
            "100%|██████████| 49.9M/49.9M [00:00<00:00, 194MB/s]\n"
          ]
        },
        {
          "output_type": "stream",
          "name": "stdout",
          "text": [
            "Downloading image\n",
            "archive.zip  full_emoji.csv  image  sample_data\n"
          ]
        }
      ],
      "source": [
        "import gdown # модуль для загрузки с гугл-диска\n",
        "url = 'https://drive.google.com/uc?id=1ONrKzVseOn8ZjBSK28VCh0bDYDrbun4k&confirm=y' # адрес\n",
        "#https://drive.google.com/file/d/1ONrKzVseOn8ZjBSK28VCh0bDYDrbun4k/view?usp=share_link\n",
        "output = 'archive.zip' # название загружаемого файла\n",
        "gdown.download(url, output, quiet=False) # загружаем\n",
        "!echo \"Downloading image\"\n",
        "# распаковываем\n",
        "!unzip -o -qq archive.zip\n",
        "# удаляем после распаковки\n",
        "!ls\n",
        "root = './image/Google/' # директория с файлами "
      ]
    },
    {
      "cell_type": "markdown",
      "source": [
        "# 1. Распознавание"
      ],
      "metadata": {
        "id": "SQcGoUmY7UD4"
      }
    },
    {
      "cell_type": "code",
      "source": [
        "class IMG_dataset(Dataset):\n",
        "    # кастомный датасет для ряботы с pytorch dataloader\n",
        "    def __init__(self, csv_file, root_dir):\n",
        "        \n",
        "        self.path = root_dir\n",
        "        self.classes = {\n",
        "            0: 'face',\n",
        "            1: 'person',\n",
        "            2: 'flag',\n",
        "            3: 'other'\n",
        "        }\n",
        "        self.data = list()\n",
        "\n",
        "        for num, name in zip(csv_file['#'], csv_file['name']):\n",
        "            if 'face' in name:\n",
        "                self.data.append((0, num))\n",
        "                continue\n",
        "            if 'person' in name:\n",
        "                self.data.append((1, num))\n",
        "                continue\n",
        "            if 'flag' in name:\n",
        "                self.data.append((2, num))\n",
        "                continue\n",
        "            self.data.append((3, num))\n",
        "\n",
        "    def __getitem__(self, idx):\n",
        "\n",
        "        tscp = torchvision.transforms.Compose([\n",
        "            torchvision.transforms.ToTensor()\n",
        "        ])\n",
        "\n",
        "        curr = self.data[idx]\n",
        "        path = self.path + '/' + str(curr[1]) + '.png'  \n",
        "        img = Image.open(path).convert('RGBA')\n",
        "        img  = tscp(img)\n",
        "        return curr[0], img\n",
        "        \n",
        "    def __len__(self):\n",
        "        return len(self.data)"
      ],
      "metadata": {
        "id": "G7Zss2SM9HNY"
      },
      "execution_count": 324,
      "outputs": []
    },
    {
      "cell_type": "code",
      "source": [
        "def train_loop(model, train_data, test_data, EPOCH, batch_size):\n",
        "    # основная функция обучения, упрощает эксперименты с моделями и параметрами\n",
        "    load_train = DataLoader(train_data, batch_size=batch_size, shuffle=True)\n",
        "    load_test = DataLoader(test_data, batch_size=batch_size)\n",
        "\n",
        "    history_loss = []\n",
        "    history_acc = []\n",
        "\n",
        "    DEVICE = torch.device('cuda')\n",
        "    criterion = torch.nn.CrossEntropyLoss()\n",
        "    optim = torch.optim.Adam(model.parameters(), lr=0.001)\n",
        "    scheduler = ExponentialLR(optim, gamma=0.7)\n",
        "\n",
        "    for epoch in range(EPOCH):\n",
        "\n",
        "        ep_tr_loss = []\n",
        "        ep_tr_acc = []\n",
        "\n",
        "        ep_test_loss = []\n",
        "        ep_test_acc = []\n",
        "\n",
        "        model.cuda().train()\n",
        "        for by, bx in load_train:\n",
        "\n",
        "            bx = bx.cuda()\n",
        "            by = by.type(torch.LongTensor)\n",
        "\n",
        "            optim.zero_grad()\n",
        "            preds = model(bx)\n",
        "            loss = criterion(preds.cpu(), by)\n",
        "            loss.backward()\n",
        "            optim.step()\n",
        "\n",
        "            ep_tr_loss.append(loss.item())\n",
        "            sm = torch.nn.Softmax(dim=1)\n",
        "            preds = torch.argmax(sm(preds.detach().cpu()), dim=1)\n",
        "            by = by.numpy()\n",
        "            ep_tr_acc.append(accuracy_score(by, preds))\n",
        "        scheduler.step()\n",
        "        \n",
        "        model.eval()\n",
        "        for by, bx in load_test:\n",
        "\n",
        "            bx = bx.cuda()\n",
        "            by = by.type(torch.LongTensor)\n",
        "\n",
        "            with torch.no_grad():\n",
        "                preds = model(bx)\n",
        "            \n",
        "            preds = preds.cpu()\n",
        "            loss = criterion(preds, by)\n",
        "\n",
        "            ep_test_loss.append(loss.item())\n",
        "            sm = torch.nn.Softmax(dim=1)\n",
        "            preds =  torch.argmax(sm(preds.detach().cpu()), dim=1)\n",
        "            ep_test_acc.append(accuracy_score(by, preds))\n",
        "        \n",
        "        loss1 = round(sum(ep_tr_loss) / len(ep_tr_loss), 4)\n",
        "        acc1 = round(sum(ep_tr_acc) / len(ep_tr_acc), 4)\n",
        "        loss2 = round(sum(ep_test_loss) / len(ep_test_loss), 4)\n",
        "        acc2 = round(sum(ep_test_acc) / len(ep_test_acc), 4)\n",
        "        print(f'epoch {epoch}: train loss {loss1}, train acc {acc1}, test loss {loss2}, test acc {acc2}')\n",
        "\n",
        "        history_loss.extend(ep_test_loss)\n",
        "        history_acc.extend(ep_test_acc)\n",
        "\n",
        "    return history_loss, history_acc"
      ],
      "metadata": {
        "id": "aiTyronwDCiX"
      },
      "execution_count": 325,
      "outputs": []
    },
    {
      "cell_type": "code",
      "source": [
        "data = pd.read_csv('/content/full_emoji.csv')\n",
        "data = data[['#', 'name']]\n",
        "data = data.sample(frac=1, random_state=2023, ignore_index=True)\n",
        "data.head()"
      ],
      "metadata": {
        "colab": {
          "base_uri": "https://localhost:8080/",
          "height": 206
        },
        "id": "JWRa5m4MQu-y",
        "outputId": "e0bdbe60-4d92-4351-d07d-247fb6e2b29a"
      },
      "execution_count": 353,
      "outputs": [
        {
          "output_type": "execute_result",
          "data": {
            "text/plain": [
              "      #               name\n",
              "0   838        hot springs\n",
              "1  1699       flag: Monaco\n",
              "2   512            gorilla\n",
              "3    89         weary face\n",
              "4  1331  wheelchair symbol"
            ],
            "text/html": [
              "\n",
              "  <div id=\"df-89342173-312d-461b-9beb-65377c149185\">\n",
              "    <div class=\"colab-df-container\">\n",
              "      <div>\n",
              "<style scoped>\n",
              "    .dataframe tbody tr th:only-of-type {\n",
              "        vertical-align: middle;\n",
              "    }\n",
              "\n",
              "    .dataframe tbody tr th {\n",
              "        vertical-align: top;\n",
              "    }\n",
              "\n",
              "    .dataframe thead th {\n",
              "        text-align: right;\n",
              "    }\n",
              "</style>\n",
              "<table border=\"1\" class=\"dataframe\">\n",
              "  <thead>\n",
              "    <tr style=\"text-align: right;\">\n",
              "      <th></th>\n",
              "      <th>#</th>\n",
              "      <th>name</th>\n",
              "    </tr>\n",
              "  </thead>\n",
              "  <tbody>\n",
              "    <tr>\n",
              "      <th>0</th>\n",
              "      <td>838</td>\n",
              "      <td>hot springs</td>\n",
              "    </tr>\n",
              "    <tr>\n",
              "      <th>1</th>\n",
              "      <td>1699</td>\n",
              "      <td>flag: Monaco</td>\n",
              "    </tr>\n",
              "    <tr>\n",
              "      <th>2</th>\n",
              "      <td>512</td>\n",
              "      <td>gorilla</td>\n",
              "    </tr>\n",
              "    <tr>\n",
              "      <th>3</th>\n",
              "      <td>89</td>\n",
              "      <td>weary face</td>\n",
              "    </tr>\n",
              "    <tr>\n",
              "      <th>4</th>\n",
              "      <td>1331</td>\n",
              "      <td>wheelchair symbol</td>\n",
              "    </tr>\n",
              "  </tbody>\n",
              "</table>\n",
              "</div>\n",
              "      <button class=\"colab-df-convert\" onclick=\"convertToInteractive('df-89342173-312d-461b-9beb-65377c149185')\"\n",
              "              title=\"Convert this dataframe to an interactive table.\"\n",
              "              style=\"display:none;\">\n",
              "        \n",
              "  <svg xmlns=\"http://www.w3.org/2000/svg\" height=\"24px\"viewBox=\"0 0 24 24\"\n",
              "       width=\"24px\">\n",
              "    <path d=\"M0 0h24v24H0V0z\" fill=\"none\"/>\n",
              "    <path d=\"M18.56 5.44l.94 2.06.94-2.06 2.06-.94-2.06-.94-.94-2.06-.94 2.06-2.06.94zm-11 1L8.5 8.5l.94-2.06 2.06-.94-2.06-.94L8.5 2.5l-.94 2.06-2.06.94zm10 10l.94 2.06.94-2.06 2.06-.94-2.06-.94-.94-2.06-.94 2.06-2.06.94z\"/><path d=\"M17.41 7.96l-1.37-1.37c-.4-.4-.92-.59-1.43-.59-.52 0-1.04.2-1.43.59L10.3 9.45l-7.72 7.72c-.78.78-.78 2.05 0 2.83L4 21.41c.39.39.9.59 1.41.59.51 0 1.02-.2 1.41-.59l7.78-7.78 2.81-2.81c.8-.78.8-2.07 0-2.86zM5.41 20L4 18.59l7.72-7.72 1.47 1.35L5.41 20z\"/>\n",
              "  </svg>\n",
              "      </button>\n",
              "      \n",
              "  <style>\n",
              "    .colab-df-container {\n",
              "      display:flex;\n",
              "      flex-wrap:wrap;\n",
              "      gap: 12px;\n",
              "    }\n",
              "\n",
              "    .colab-df-convert {\n",
              "      background-color: #E8F0FE;\n",
              "      border: none;\n",
              "      border-radius: 50%;\n",
              "      cursor: pointer;\n",
              "      display: none;\n",
              "      fill: #1967D2;\n",
              "      height: 32px;\n",
              "      padding: 0 0 0 0;\n",
              "      width: 32px;\n",
              "    }\n",
              "\n",
              "    .colab-df-convert:hover {\n",
              "      background-color: #E2EBFA;\n",
              "      box-shadow: 0px 1px 2px rgba(60, 64, 67, 0.3), 0px 1px 3px 1px rgba(60, 64, 67, 0.15);\n",
              "      fill: #174EA6;\n",
              "    }\n",
              "\n",
              "    [theme=dark] .colab-df-convert {\n",
              "      background-color: #3B4455;\n",
              "      fill: #D2E3FC;\n",
              "    }\n",
              "\n",
              "    [theme=dark] .colab-df-convert:hover {\n",
              "      background-color: #434B5C;\n",
              "      box-shadow: 0px 1px 3px 1px rgba(0, 0, 0, 0.15);\n",
              "      filter: drop-shadow(0px 1px 2px rgba(0, 0, 0, 0.3));\n",
              "      fill: #FFFFFF;\n",
              "    }\n",
              "  </style>\n",
              "\n",
              "      <script>\n",
              "        const buttonEl =\n",
              "          document.querySelector('#df-89342173-312d-461b-9beb-65377c149185 button.colab-df-convert');\n",
              "        buttonEl.style.display =\n",
              "          google.colab.kernel.accessAllowed ? 'block' : 'none';\n",
              "\n",
              "        async function convertToInteractive(key) {\n",
              "          const element = document.querySelector('#df-89342173-312d-461b-9beb-65377c149185');\n",
              "          const dataTable =\n",
              "            await google.colab.kernel.invokeFunction('convertToInteractive',\n",
              "                                                     [key], {});\n",
              "          if (!dataTable) return;\n",
              "\n",
              "          const docLinkHtml = 'Like what you see? Visit the ' +\n",
              "            '<a target=\"_blank\" href=https://colab.research.google.com/notebooks/data_table.ipynb>data table notebook</a>'\n",
              "            + ' to learn more about interactive tables.';\n",
              "          element.innerHTML = '';\n",
              "          dataTable['output_type'] = 'display_data';\n",
              "          await google.colab.output.renderOutput(dataTable, element);\n",
              "          const docLink = document.createElement('div');\n",
              "          docLink.innerHTML = docLinkHtml;\n",
              "          element.appendChild(docLink);\n",
              "        }\n",
              "      </script>\n",
              "    </div>\n",
              "  </div>\n",
              "  "
            ]
          },
          "metadata": {},
          "execution_count": 353
        }
      ]
    },
    {
      "cell_type": "code",
      "source": [
        "ind = 0\n",
        "while ind != len(data):\n",
        "\n",
        "    if not pathlib.Path(f'/content/image/Apple/{data.iloc[ind][0]}.png').exists():\n",
        "        data = data.drop(labels=ind, axis=0)\n",
        "        data = data.reset_index(drop=True)\n",
        "        print('check')\n",
        "        continue\n",
        "    ind += 1"
      ],
      "metadata": {
        "colab": {
          "base_uri": "https://localhost:8080/"
        },
        "id": "LdaASSxVbclR",
        "outputId": "047485d0-7fa0-479b-e3b8-dc9ba0e25632"
      },
      "execution_count": 354,
      "outputs": [
        {
          "output_type": "stream",
          "name": "stdout",
          "text": [
            "check\n",
            "check\n",
            "check\n"
          ]
        }
      ]
    },
    {
      "cell_type": "code",
      "source": [
        "PATH = '/content/image/Apple'\n",
        "\n",
        "test_size = round(len(data) * 0.3)\n",
        "test = pd.DataFrame(data.iloc[:test_size]).reset_index(drop=True)\n",
        "train = pd.DataFrame(data.iloc[test_size:]).reset_index(drop=True)\n",
        "\n",
        "test_data = IMG_dataset(test, PATH)\n",
        "train_data = IMG_dataset(train, PATH)"
      ],
      "metadata": {
        "id": "pGZtsmJrQzH1"
      },
      "execution_count": 328,
      "outputs": []
    },
    {
      "cell_type": "code",
      "source": [
        "model = resnet34(weights='ResNet34_Weights.IMAGENET1K_V1')\n",
        "model.conv1 = torch.nn.Conv2d(4, 64, kernel_size=(7, 7), stride=(2, 2), padding=(3, 3), bias=False)\n",
        "model.fc = torch.nn.Linear(in_features=512, out_features=4, bias=True)"
      ],
      "metadata": {
        "id": "aht-85oVWS6B"
      },
      "execution_count": 329,
      "outputs": []
    },
    {
      "cell_type": "code",
      "source": [
        "history_loss, history_acc = train_loop(model, train_data, test_data, 5, 32)"
      ],
      "metadata": {
        "colab": {
          "base_uri": "https://localhost:8080/"
        },
        "id": "QTDQkGFTS_oA",
        "outputId": "122d4f57-b76c-47fe-f995-1e01a6a22e54"
      },
      "execution_count": 330,
      "outputs": [
        {
          "output_type": "stream",
          "name": "stdout",
          "text": [
            "epoch 0: train loss 0.4772, train acc 0.8679, test loss 0.3911, test acc 0.9062\n",
            "epoch 1: train loss 0.3081, train acc 0.9254, test loss 0.3618, test acc 0.8842\n",
            "epoch 2: train loss 0.2316, train acc 0.9417, test loss 0.2166, test acc 0.9357\n",
            "epoch 3: train loss 0.1902, train acc 0.9461, test loss 0.2085, test acc 0.9467\n",
            "epoch 4: train loss 0.1755, train acc 0.948, test loss 0.1735, test acc 0.9467\n"
          ]
        }
      ]
    },
    {
      "cell_type": "markdown",
      "source": [
        "# 2. Атаки "
      ],
      "metadata": {
        "id": "occH9MXpAxo9"
      }
    },
    {
      "cell_type": "code",
      "source": [
        "# таки будм производить методом one-pixel-attack\n",
        "# удобнее всего будет реализовать это через библиотеку ниже\n",
        "# с основными принципами этого метода я ознакомился по ссылке: \n",
        "# https://habr.com/ru/post/498114/\n",
        "# ссылка на библиотеку (она основана на методах, которые используют в статье)\n",
        "# https://adversarial-attacks-pytorch.readthedocs.io/en/latest/index.html\n",
        "\n",
        "!pip install torchattacks"
      ],
      "metadata": {
        "colab": {
          "base_uri": "https://localhost:8080/"
        },
        "id": "EXV9jEveAz-X",
        "outputId": "aa45d20f-1df2-45cd-9f00-9a20f9f752ed"
      },
      "execution_count": 331,
      "outputs": [
        {
          "output_type": "stream",
          "name": "stdout",
          "text": [
            "Looking in indexes: https://pypi.org/simple, https://us-python.pkg.dev/colab-wheels/public/simple/\n",
            "Requirement already satisfied: torchattacks in /usr/local/lib/python3.9/dist-packages (3.3.0)\n"
          ]
        }
      ]
    },
    {
      "cell_type": "code",
      "source": [
        "from torchattacks.attacks.onepixel import OnePixel"
      ],
      "metadata": {
        "id": "6mb_WsaKvup3"
      },
      "execution_count": 332,
      "outputs": []
    },
    {
      "cell_type": "code",
      "source": [
        "# вместо списка имен берем путь к изображению для простоты реализации\n",
        "\n",
        "def attack_emoji(path, model, pixels, steps):\n",
        "\n",
        "    classes = {\n",
        "            0: 'face',\n",
        "            1: 'person',\n",
        "            2: 'flag',\n",
        "            3: 'other'\n",
        "        }\n",
        "\n",
        "    tscp = torchvision.transforms.Compose([\n",
        "            torchvision.transforms.ToTensor()\n",
        "        ])\n",
        "    img = Image.open(path).convert('RGBA')\n",
        "    img_c = tscp(img)\n",
        "    model.cuda()\n",
        "    img_c = torch.unsqueeze(img_c, 0).cuda()\n",
        "    with torch.no_grad():\n",
        "                labels = model(img_c)\n",
        "    model.cpu()\n",
        "    labels = labels.detach().cpu()\n",
        "    t = torch.nn.Softmax(1)\n",
        "    labels = t(labels)\n",
        "    pred = torch.argmax(labels, 1)\n",
        "    print(f'clear image pred - {classes[pred.item()]}')\n",
        "\n",
        "    attack = OnePixel(model=model, pixels=pixels, steps=steps)\n",
        "    adv_images = attack(img_c.cuda(), pred.cuda())\n",
        "    img_c, pred = img_c.detach().cpu(), pred.detach().cpu()\n",
        "    \n",
        "    model.cuda()\n",
        "    adv_images = adv_images.cuda()\n",
        "    with torch.no_grad():\n",
        "                noised = model(adv_images)\n",
        "    model.cpu()\n",
        "    adv_images = adv_images.cpu()\n",
        "    noised = noised.detach().cpu()\n",
        "    noised = t(noised)\n",
        "    noised = torch.argmax(noised, 1)\n",
        "    print(f'noised image pred - {classes[noised.item()]}')\n",
        "\n",
        "    plt.figure()\n",
        "    plt.imshow(img)\n",
        "\n",
        "    plt.figure()\n",
        "    transform = torchvision.transforms.ToPILImage()\n",
        "    adv_images = adv_images[0].permute(1, 2, 0)\n",
        "    plt.imshow(adv_images)"
      ],
      "metadata": {
        "id": "uwgar8Kat2Gn"
      },
      "execution_count": 360,
      "outputs": []
    },
    {
      "cell_type": "code",
      "source": [
        "PATH = '/content/image/Apple/1221.png'\n",
        "attack_emoji(PATH, model, 10, 10)"
      ],
      "metadata": {
        "colab": {
          "base_uri": "https://localhost:8080/",
          "height": 554
        },
        "id": "NT8P3VlMzXck",
        "outputId": "a65a5451-9169-491b-836c-188c4d8607df"
      },
      "execution_count": 361,
      "outputs": [
        {
          "output_type": "stream",
          "name": "stdout",
          "text": [
            "clear image pred - other\n",
            "noised image pred - flag\n"
          ]
        },
        {
          "output_type": "display_data",
          "data": {
            "text/plain": [
              "<Figure size 432x288 with 1 Axes>"
            ],
            "image/png": "[encoded data removed]"
          },
          "metadata": {
            "needs_background": "light"
          }
        },
        {
          "output_type": "display_data",
          "data": {
            "text/plain": [
              "<Figure size 432x288 with 1 Axes>"
            ],
            "image/png": "[encoded data removed]"
          },
          "metadata": {
            "needs_background": "light"
          }
        }
      ]
    },
    {
      "cell_type": "code",
      "source": [
        "# пришлось пару минут поперебирать файлы, чтобы найти подходящий сэмпл\n",
        "# опираясь на оценку качества атак в статье на хабре (таблица в конце), я думаю\n",
        "# это связано с не самыми оптимальными параметрами для конкретного датасета и модели\n",
        "# (качество атак может колебаться в районе 30%)"
      ],
      "metadata": {
        "id": "YsBS9ZNvbIgl"
      },
      "execution_count": 362,
      "outputs": []
    },
    {
      "cell_type": "code",
      "source": [],
      "metadata": {
        "id": "b3Ocbrd6dpgW"
      },
      "execution_count": null,
      "outputs": []
    }
  ]
}